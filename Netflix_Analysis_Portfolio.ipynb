{
 "cells": [
  {
   "cell_type": "markdown",
   "id": "f1d807bf",
   "metadata": {},
   "source": [
    "## Netflix Data Analysis 📺\n",
    "\n",
    "This project analyzes Netflix's catalog using data visualizations to understand trends in content types, countries, genres, and more."
   ]
  },
  {
   "cell_type": "markdown",
   "id": "8d11825e",
   "metadata": {},
   "source": [
    "### Step 1: Import Libraries"
   ]
  },
  {
   "cell_type": "code",
   "execution_count": null,
   "id": "9955ef4b",
   "metadata": {},
   "outputs": [],
   "source": [
    "import pandas as pd\n",
    "import numpy as np\n",
    "import matplotlib.pyplot as plt\n",
    "import seaborn as sns\n",
    "\n",
    "# Style\n",
    "sns.set(style='darkgrid')\n",
    "%matplotlib inline"
   ]
  },
  {
   "cell_type": "markdown",
   "id": "4db4c07d",
   "metadata": {},
   "source": [
    "### Step 2: Load Dataset"
   ]
  },
  {
   "cell_type": "code",
   "execution_count": null,
   "id": "92a1aa83",
   "metadata": {},
   "outputs": [],
   "source": [
    "url = \"https://gist.githubusercontent.com/MounikaKatipally/7c1eaa77b87ef2a23518a57c593680ff/raw/netflix_titles.csv\"\n",
    "df = pd.read_csv(url)\n",
    "print(\"Shape of data:\", df.shape)\n",
    "print(\"\\nColumn Names:\", df.columns.tolist())\n",
    "df.head()"
   ]
  },
  {
   "cell_type": "markdown",
   "id": "7492c773",
   "metadata": {},
   "source": [
    "### Step 3: Data Cleaning\n",
    "- Remove duplicates\n",
    "- Convert date format\n",
    "- Handle missing values"
   ]
  },
  {
   "cell_type": "code",
   "execution_count": null,
   "id": "454f3cd5",
   "metadata": {},
   "outputs": [],
   "source": [
    "df.drop_duplicates(inplace=True)\n",
    "df['date_added'] = pd.to_datetime(df['date_added'], errors='coerce')\n",
    "df['year_added'] = df['date_added'].dt.year\n",
    "df['month_added'] = df['date_added'].dt.month\n",
    "df['genres'] = df['listed_in'].fillna('').apply(lambda x: x.split(', '))\n",
    "df['country'] = df['country'].fillna('Unknown')\n",
    "df['rating'] = df['rating'].fillna('Unknown')\n",
    "df['director'] = df['director'].fillna('Unknown')"
   ]
  },
  {
   "cell_type": "markdown",
   "id": "ed69fce6",
   "metadata": {},
   "source": [
    "### Step 4: Content Type Distribution"
   ]
  },
  {
   "cell_type": "code",
   "execution_count": null,
   "id": "e153940f",
   "metadata": {},
   "outputs": [],
   "source": [
    "sns.countplot(data=df, x='type', palette='Set2')\n",
    "plt.title('Netflix Content Type Distribution')\n",
    "plt.tight_layout()\n",
    "plt.show()"
   ]
  },
  {
   "cell_type": "markdown",
   "id": "801cbd88",
   "metadata": {},
   "source": [
    "### Step 5: Titles Added Per Year"
   ]
  },
  {
   "cell_type": "code",
   "execution_count": null,
   "id": "8a82e551",
   "metadata": {},
   "outputs": [],
   "source": [
    "df['year_added'].value_counts().sort_index().plot(kind='bar', figsize=(12, 5), color='tomato')\n",
    "plt.title('Number of Titles Added Each Year')\n",
    "plt.xlabel('Year')\n",
    "plt.ylabel('Count')\n",
    "plt.tight_layout()\n",
    "plt.show()"
   ]
  },
  {
   "cell_type": "markdown",
   "id": "94e999e3",
   "metadata": {},
   "source": [
    "### Step 6: Top 10 Countries by Content"
   ]
  },
  {
   "cell_type": "code",
   "execution_count": null,
   "id": "0618d220",
   "metadata": {},
   "outputs": [],
   "source": [
    "df['country'].value_counts().head(10).sort_values().plot(kind='barh', color='seagreen')\n",
    "plt.title('Top 10 Countries by Content on Netflix')\n",
    "plt.tight_layout()\n",
    "plt.show()"
   ]
  },
  {
   "cell_type": "markdown",
   "id": "d4c348a5",
   "metadata": {},
   "source": [
    "### Step 7: Top 10 Genres"
   ]
  },
  {
   "cell_type": "code",
   "execution_count": null,
   "id": "cfc7c2d1",
   "metadata": {},
   "outputs": [],
   "source": [
    "from collections import Counter\n",
    "genre_list = sum(df['genres'].tolist(), [])\n",
    "genre_freq = Counter(genre_list)\n",
    "pd.Series(genre_freq).sort_values(ascending=False).head(10).plot(kind='bar', color='orchid')\n",
    "plt.title('Top 10 Genres on Netflix')\n",
    "plt.tight_layout()\n",
    "plt.show()"
   ]
  },
  {
   "cell_type": "markdown",
   "id": "ce292809",
   "metadata": {},
   "source": [
    "### Step 8: Ratings Distribution"
   ]
  },
  {
   "cell_type": "code",
   "execution_count": null,
   "id": "3cb448a1",
   "metadata": {},
   "outputs": [],
   "source": [
    "df['rating'].value_counts().plot(kind='bar', figsize=(10,5), color='skyblue')\n",
    "plt.title('Distribution of Ratings')\n",
    "plt.xlabel('Rating')\n",
    "plt.ylabel('Count')\n",
    "plt.tight_layout()\n",
    "plt.show()"
   ]
  },
  {
   "cell_type": "markdown",
   "id": "409e9e19",
   "metadata": {},
   "source": [
    "### Step 9: Top 10 Directors"
   ]
  },
  {
   "cell_type": "code",
   "execution_count": null,
   "id": "b2762fc0",
   "metadata": {},
   "outputs": [],
   "source": [
    "df['director'].value_counts().dropna().head(10).plot(kind='bar', color='goldenrod')\n",
    "plt.title('Top 10 Most Frequent Directors')\n",
    "plt.tight_layout()\n",
    "plt.show()"
   ]
  },
  {
   "cell_type": "markdown",
   "id": "b57ed0ec",
   "metadata": {},
   "source": [
    "## Conclusion 📝\n",
    "- Netflix has more movies than TV shows.\n",
    "- Most content was added between 2017-2020.\n",
    "- The US is the leading contributor.\n",
    "- Documentaries and Dramas are the most frequent genres.\n",
    "- TV-MA and TV-14 are common ratings.\n",
    "- Some directors are repeatedly featured, indicating popularity or collaboration with Netflix."
   ]
  }
 ],
 "metadata": {},
 "nbformat": 4,
 "nbformat_minor": 5
}
